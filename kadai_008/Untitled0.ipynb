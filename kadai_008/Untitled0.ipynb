{
  "nbformat": 4,
  "nbformat_minor": 0,
  "metadata": {
    "colab": {
      "provenance": []
    },
    "kernelspec": {
      "name": "python3",
      "display_name": "Python 3"
    },
    "language_info": {
      "name": "python"
    }
  },
  "cells": [
    {
      "cell_type": "code",
      "execution_count": 8,
      "metadata": {
        "colab": {
          "base_uri": "https://localhost:8080/"
        },
        "id": "EnZ_MfzUC4OD",
        "outputId": "8170e882-e8cf-436f-c43a-47c601284abd"
      },
      "outputs": [
        {
          "output_type": "stream",
          "name": "stdout",
          "text": [
            "7\n"
          ]
        }
      ],
      "source": [
        "var=7\n",
        "\n",
        "if (var % 3 ==0) and (var % 5 ==0):\n",
        "  print(\"FizzBuzz\")\n",
        "elif (var % 3 ==0):\n",
        "  print(\"Fizz\")\n",
        "elif (var % 5 ==0):\n",
        "  print(\"Buzz\")\n",
        "else:\n",
        "  print(var)\n",
        "\n"
      ]
    },
    {
      "cell_type": "code",
      "source": [],
      "metadata": {
        "id": "TQtlr4qUDTVS"
      },
      "execution_count": null,
      "outputs": []
    }
  ]
}