{
  "nbformat": 4,
  "nbformat_minor": 0,
  "metadata": {
    "colab": {
      "provenance": []
    },
    "kernelspec": {
      "name": "python3",
      "display_name": "Python 3"
    },
    "language_info": {
      "name": "python"
    }
  },
  "cells": [
    {
      "cell_type": "code",
      "execution_count": 13,
      "metadata": {
        "colab": {
          "base_uri": "https://localhost:8080/"
        },
        "id": "iIn3Pf0m-vjv",
        "outputId": "a7ad672c-4f91-4bff-d47a-1d6d0db487a6"
      },
      "outputs": [
        {
          "output_type": "stream",
          "name": "stdout",
          "text": [
            "水曜日は晴れです\n",
            "晴れ\n"
          ]
        }
      ],
      "source": [
        "array=[ \"月曜日は晴れです\",\n",
        "        \"火曜日は雨です\",\n",
        "        \"水曜日は晴れです\",\n",
        "        \"木曜日は晴れです\",\n",
        "        \"金曜日は曇りです\",\n",
        "        \"土曜日は曇りのち雨です\",\n",
        "        \"日曜日は雷雨です\"]\n",
        "\n",
        "dictionary={  \"mon\":\"晴れ\",\n",
        "              \"tue\":\"雨\",\n",
        "              \"wed\":\"晴れ\",\n",
        "              \"thu\":\"晴れ\",\n",
        "              \"fri\":\"曇り\",\n",
        "              \"sat\":\"曇りのち雨\",\n",
        "              \"sun\":\"雷雨\"}\n",
        "\n",
        "print(array[2])\n",
        "print(dictionary[\"wed\"])"
      ]
    },
    {
      "cell_type": "code",
      "source": [],
      "metadata": {
        "id": "y60g6rkTA1Wh"
      },
      "execution_count": null,
      "outputs": []
    }
  ]
}