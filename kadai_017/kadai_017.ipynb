{
 "cells": [
  {
   "cell_type": "code",
   "execution_count": 23,
   "id": "a2fa1fd0",
   "metadata": {},
   "outputs": [
    {
     "name": "stdout",
     "output_type": "stream",
     "text": [
      "一郎さんは大人です。\n",
      "次郎さんは大人です。\n",
      "三郎さんは大人です。\n",
      "四郎さんは子供です。\n",
      "五郎さんは子供です。\n",
      "六郎さんは子供です。\n"
     ]
    }
   ],
   "source": [
    "class Human:\n",
    "    def __init__(self, name, age):\n",
    "        self.name = name\n",
    "        self.age = age\n",
    "    \n",
    "    def check_adult(self):\n",
    "        if self.age >= 20:\n",
    "            print(f\"{self.name}さんは大人です。\")\n",
    "        else:\n",
    "            print(f\"{self.name}さんは子供です。\")\n",
    "        \n",
    "        return\n",
    "\n",
    "\n",
    "name_dict ={    \"一郎\": 35,\n",
    "                \"次郎\": 25,\n",
    "                \"三郎\": 20,\n",
    "                \"四郎\": 19,\n",
    "                \"五郎\": 15,\n",
    "                \"六郎\": 10,}\n",
    "# Main code\n",
    "person_list = [Human(name, age) for name, age in name_dict.items()]\n",
    "\n",
    "i=0\n",
    "while i < len(person_list):\n",
    "    person_list[i].check_adult()\n",
    "    i+= 1\n",
    "        \n"
   ]
  },
  {
   "cell_type": "code",
   "execution_count": null,
   "id": "d5e8b579",
   "metadata": {},
   "outputs": [
    {
     "name": "stdout",
     "output_type": "stream",
     "text": [
      "大人です。\n"
     ]
    }
   ],
   "source": []
  },
  {
   "cell_type": "code",
   "execution_count": null,
   "id": "5349b49e",
   "metadata": {},
   "outputs": [],
   "source": []
  }
 ],
 "metadata": {
  "kernelspec": {
   "display_name": "Python 3",
   "language": "python",
   "name": "python3"
  },
  "language_info": {
   "codemirror_mode": {
    "name": "ipython",
    "version": 3
   },
   "file_extension": ".py",
   "mimetype": "text/x-python",
   "name": "python",
   "nbconvert_exporter": "python",
   "pygments_lexer": "ipython3",
   "version": "3.13.3"
  }
 },
 "nbformat": 4,
 "nbformat_minor": 5
}
