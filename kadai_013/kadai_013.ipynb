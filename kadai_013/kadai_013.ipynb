{
  "nbformat": 4,
  "nbformat_minor": 0,
  "metadata": {
    "colab": {
      "provenance": [],
      "toc_visible": true
    },
    "kernelspec": {
      "name": "python3",
      "display_name": "Python 3"
    },
    "language_info": {
      "name": "python"
    }
  },
  "cells": [
    {
      "cell_type": "code",
      "execution_count": 1,
      "metadata": {
        "colab": {
          "base_uri": "https://localhost:8080/"
        },
        "id": "N6z2cElqtYbE",
        "outputId": "5d4d62eb-f5d3-4333-efca-9ff8e14bc511"
      },
      "outputs": [
        {
          "output_type": "execute_result",
          "data": {
            "text/plain": [
              "(110.00000000000001, 10.0)"
            ]
          },
          "metadata": {},
          "execution_count": 1
        }
      ],
      "source": [
        "def add_tax(price: float ):\n",
        " total=price*1.1\n",
        " tax=price*0.1\n",
        " return total, tax\n",
        "\n",
        "test=100\n",
        "add_tax(test)\n",
        "\n",
        "\n",
        "\n"
      ]
    },
    {
      "cell_type": "code",
      "source": [],
      "metadata": {
        "id": "EQLXuyWdus40"
      },
      "execution_count": null,
      "outputs": []
    }
  ]
}