{
  "nbformat": 4,
  "nbformat_minor": 0,
  "metadata": {
    "colab": {
      "provenance": [],
      "toc_visible": true
    },
    "kernelspec": {
      "name": "python3",
      "display_name": "Python 3"
    },
    "language_info": {
      "name": "python"
    }
  },
  "cells": [
    {
      "cell_type": "code",
      "execution_count": 7,
      "metadata": {
        "colab": {
          "base_uri": "https://localhost:8080/"
        },
        "id": "N6z2cElqtYbE",
        "outputId": "c7746e7f-ed82-48f7-f007-038825b7112c"
      },
      "outputs": [
        {
          "output_type": "execute_result",
          "data": {
            "text/plain": [
              "121.00000000000001"
            ]
          },
          "metadata": {},
          "execution_count": 7
        }
      ],
      "source": [
        "def add_tax(price, tax ):\n",
        " total=price*(1+tax/100)\n",
        " return total\n",
        "\n",
        "add_tax(110,10)\n",
        "\n",
        "\n",
        "\n"
      ]
    },
    {
      "cell_type": "code",
      "source": [],
      "metadata": {
        "id": "EQLXuyWdus40"
      },
      "execution_count": null,
      "outputs": []
    }
  ]
}