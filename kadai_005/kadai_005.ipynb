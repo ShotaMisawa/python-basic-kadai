{
  "nbformat": 4,
  "nbformat_minor": 0,
  "metadata": {
    "colab": {
      "provenance": []
    },
    "kernelspec": {
      "name": "python3",
      "display_name": "Python 3"
    },
    "language_info": {
      "name": "python"
    }
  },
  "cells": [
    {
      "cell_type": "markdown",
      "source": [],
      "metadata": {
        "id": "Tya-1eSC3h2n"
      }
    },
    {
      "cell_type": "code",
      "execution_count": 3,
      "metadata": {
        "colab": {
          "base_uri": "https://localhost:8080/"
        },
        "id": "XCJR473uxhe0",
        "outputId": "f67a51e0-af35-46be-fce5-b56b6fd195bb"
      },
      "outputs": [
        {
          "output_type": "stream",
          "name": "stdout",
          "text": [
            "75.0\n"
          ]
        }
      ],
      "source": [
        "upper_length=10\n",
        "lower_length=20\n",
        "height=5\n",
        "\n",
        "area=(upper_length+lower_length)*height/2\n",
        "print(area)"
      ]
    },
    {
      "cell_type": "code",
      "source": [],
      "metadata": {
        "id": "ajjcTJjH3aPP"
      },
      "execution_count": null,
      "outputs": []
    }
  ]
}