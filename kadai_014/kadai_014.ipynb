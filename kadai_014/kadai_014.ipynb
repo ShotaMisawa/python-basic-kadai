{
  "nbformat": 4,
  "nbformat_minor": 0,
  "metadata": {
    "colab": {
      "provenance": []
    },
    "kernelspec": {
      "name": "python3",
      "display_name": "Python 3"
    },
    "language_info": {
      "name": "python"
    }
  },
  "cells": [
    {
      "cell_type": "code",
      "execution_count": 2,
      "metadata": {
        "colab": {
          "base_uri": "https://localhost:8080/",
          "height": 0
        },
        "id": "fyVWPuRBw5zK",
        "outputId": "8f537e25-3e33-4383-c735-77803f66ea67"
      },
      "outputs": [
        {
          "output_type": "stream",
          "name": "stdout",
          "text": [
            "330.0\n"
          ]
        }
      ],
      "source": [
        "price1 = 100\n",
        "price2 = 200\n",
        "tax = 1.1\n",
        "def total():\n",
        "\n",
        "    return price1 + price2\n",
        "\n",
        "print (total() * tax)"
      ]
    },
    {
      "cell_type": "code",
      "source": [],
      "metadata": {
        "id": "dFL6CcDbxKl9"
      },
      "execution_count": null,
      "outputs": []
    }
  ]
}